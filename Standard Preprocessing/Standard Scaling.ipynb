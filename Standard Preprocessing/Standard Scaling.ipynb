{
 "cells": [
  {
   "cell_type": "markdown",
   "id": "1b100ea4",
   "metadata": {},
   "source": [
    "# Standard Scaling\n",
    "* Implement standard scaling using sklearn. This should always be done for distance based algorithms such as KNN, SVM, and clustering as well as regularization techniques such as Lasso and Ridge regression. This can also help models using gradient descent to converge, examples include Linear Regression, Logistic Regression, and Neural Networks"
   ]
  },
  {
   "cell_type": "code",
   "execution_count": 1,
   "id": "f98d136a",
   "metadata": {},
   "outputs": [],
   "source": [
    "import numpy as np\n",
    "from sklearn.preprocessing import StandardScaler"
   ]
  },
  {
   "cell_type": "code",
   "execution_count": 2,
   "id": "d9295ed2",
   "metadata": {},
   "outputs": [],
   "source": [
    "# Generate random data with each column being on different scales\n",
    "np.random.seed(42)\n",
    "data = np.random.rand(100, 5) * [1000, 100, 10, 1, .1]"
   ]
  },
  {
   "cell_type": "code",
   "execution_count": 3,
   "id": "967c257e",
   "metadata": {
    "scrolled": true
   },
   "outputs": [
    {
     "name": "stdout",
     "output_type": "stream",
     "text": [
      "Original Data:\n",
      "[[3.745e+02 9.507e+01 7.320e+00 5.987e-01 1.560e-02]\n",
      " [1.560e+02 5.808e+00 8.662e+00 6.011e-01 7.081e-02]\n",
      " [2.058e+01 9.699e+01 8.324e+00 2.123e-01 1.818e-02]\n",
      " [1.834e+02 3.042e+01 5.248e+00 4.319e-01 2.912e-02]\n",
      " [6.119e+02 1.395e+01 2.921e+00 3.664e-01 4.561e-02]\n",
      " [7.852e+02 1.997e+01 5.142e+00 5.924e-01 4.645e-03]\n",
      " [6.075e+02 1.705e+01 6.505e-01 9.489e-01 9.656e-02]\n",
      " [8.084e+02 3.046e+01 9.767e-01 6.842e-01 4.402e-02]\n",
      " [1.220e+02 4.952e+01 3.439e-01 9.093e-01 2.588e-02]\n",
      " [6.625e+02 3.117e+01 5.201e+00 5.467e-01 1.849e-02]\n",
      " [9.696e+02 7.751e+01 9.395e+00 8.948e-01 5.979e-02]\n",
      " [9.219e+02 8.849e+00 1.960e+00 4.523e-02 3.253e-02]\n",
      " [3.887e+02 2.713e+01 8.287e+00 3.568e-01 2.809e-02]\n",
      " [5.427e+02 1.409e+01 8.022e+00 7.455e-02 9.869e-02]\n",
      " [7.722e+02 1.987e+01 5.522e-02 8.155e-01 7.069e-02]\n",
      " [7.290e+02 7.713e+01 7.404e-01 3.585e-01 1.159e-02]\n",
      " [8.631e+02 6.233e+01 3.309e+00 6.356e-02 3.110e-02]\n",
      " [3.252e+02 7.296e+01 6.376e+00 8.872e-01 4.722e-02]\n",
      " [1.196e+02 7.132e+01 7.608e+00 5.613e-01 7.710e-02]\n",
      " [4.938e+02 5.227e+01 4.275e+00 2.542e-02 1.079e-02]\n",
      " [3.143e+01 6.364e+01 3.144e+00 5.086e-01 9.076e-02]\n",
      " [2.493e+02 4.104e+01 7.556e+00 2.288e-01 7.698e-03]\n",
      " [2.898e+02 1.612e+01 9.297e+00 8.081e-01 6.334e-02]\n",
      " [8.715e+02 8.037e+01 1.866e+00 8.926e-01 5.393e-02]\n",
      " [8.074e+02 8.961e+01 3.180e+00 1.101e-01 2.279e-02]\n",
      " [4.271e+02 8.180e+01 8.607e+00 6.952e-03 5.107e-02]\n",
      " [4.174e+02 2.221e+01 1.199e+00 3.376e-01 9.429e-02]\n",
      " [3.232e+02 5.188e+01 7.030e+00 3.636e-01 9.718e-02]\n",
      " [9.624e+02 2.518e+01 4.972e+00 3.009e-01 2.848e-02]\n",
      " [3.689e+01 6.096e+01 5.027e+00 5.148e-02 2.786e-02]\n",
      " [9.083e+02 2.396e+01 1.449e+00 4.895e-01 9.857e-02]\n",
      " [2.421e+02 6.721e+01 7.616e+00 2.376e-01 7.282e-02]\n",
      " [3.678e+02 6.323e+01 6.335e+00 5.358e-01 9.029e-03]\n",
      " [8.353e+02 3.208e+01 1.865e+00 4.078e-02 5.909e-02]\n",
      " [6.776e+02 1.659e+00 5.121e+00 2.265e-01 6.452e-02]\n",
      " [1.744e+02 6.909e+01 3.867e+00 9.367e-01 1.375e-02]\n",
      " [3.411e+02 1.135e+01 9.247e+00 8.773e-01 2.579e-02]\n",
      " [6.600e+02 8.172e+01 5.552e+00 5.297e-01 2.419e-02]\n",
      " [9.310e+01 8.972e+01 9.004e+00 6.331e-01 3.390e-02]\n",
      " [3.492e+02 7.260e+01 8.971e+00 8.871e-01 7.799e-02]\n",
      " [6.420e+02 8.414e+00 1.616e+00 8.986e-01 6.064e-02]\n",
      " [9.197e+00 1.015e+01 6.635e+00 5.062e-03 1.608e-02]\n",
      " [5.487e+02 6.919e+01 6.520e+00 2.243e-01 7.122e-02]\n",
      " [2.372e+02 3.254e+01 7.465e+00 6.496e-01 8.492e-02]\n",
      " [6.576e+02 5.683e+01 9.367e-01 3.677e-01 2.652e-02]\n",
      " [2.440e+02 9.730e+01 3.931e+00 8.920e-01 6.311e-02]\n",
      " [7.948e+02 5.026e+01 5.769e+00 4.925e-01 1.952e-02]\n",
      " [7.225e+02 2.808e+01 2.432e-01 6.455e-01 1.771e-02]\n",
      " [9.405e+02 9.539e+01 9.149e+00 3.702e-01 1.546e-03]\n",
      " [9.283e+02 4.282e+01 9.667e+00 9.636e-01 8.530e-02]\n",
      " [2.944e+02 3.851e+01 8.511e+00 3.169e-01 1.695e-02]\n",
      " [5.568e+02 9.362e+01 6.960e+00 5.701e-01 9.718e-03]\n",
      " [6.150e+02 9.901e+01 1.401e+00 5.183e-01 8.774e-02]\n",
      " [7.408e+02 6.970e+01 7.025e+00 3.595e-01 2.936e-02]\n",
      " [8.094e+02 8.101e+01 8.671e+00 9.132e-01 5.113e-02]\n",
      " [5.015e+02 7.983e+01 6.500e+00 7.020e-01 7.958e-02]\n",
      " [8.900e+02 3.380e+01 3.756e+00 9.398e-02 5.783e-02]\n",
      " [3.594e+01 4.656e+01 5.426e+00 2.865e-01 5.908e-02]\n",
      " [3.050e+01 3.735e+00 8.226e+00 3.602e-01 1.271e-02]\n",
      " [5.222e+02 7.700e+01 2.158e+00 6.229e-01 8.535e-03]\n",
      " [5.168e+01 5.314e+01 5.406e+00 6.374e-01 7.261e-02]\n",
      " [9.759e+02 5.163e+01 3.230e+00 7.952e-01 2.708e-02]\n",
      " [4.390e+02 7.846e+00 2.535e-01 9.626e-01 8.360e-02]\n",
      " [6.960e+02 4.090e+01 1.733e+00 1.564e-01 2.502e-02]\n",
      " [5.492e+02 7.146e+01 6.602e+00 2.799e-01 9.549e-02]\n",
      " [7.379e+02 5.544e+01 6.117e+00 4.196e-01 2.477e-02]\n",
      " [3.560e+02 7.578e+01 1.439e-01 1.161e-01 4.600e-03]\n",
      " [4.073e+01 8.555e+01 7.037e+00 4.742e-01 9.783e-03]\n",
      " [4.916e+02 4.735e+01 1.732e+00 4.339e-01 3.985e-02]\n",
      " [6.159e+02 6.351e+01 4.530e-01 3.746e-01 6.259e-02]\n",
      " [5.031e+02 8.565e+01 6.587e+00 1.629e-01 7.057e-03]\n",
      " [6.424e+02 2.651e+00 5.858e+00 9.402e-01 5.755e-02]\n",
      " [3.882e+02 6.433e+01 4.583e+00 5.456e-01 9.415e-02]\n",
      " [3.861e+02 9.612e+01 9.054e+00 1.958e-01 6.936e-03]\n",
      " [1.008e+02 1.822e+00 9.444e-01 6.830e-01 7.119e-03]\n",
      " [3.190e+02 8.449e+01 2.327e-01 8.145e-01 2.819e-02]\n",
      " [1.182e+02 6.967e+01 6.289e+00 8.775e-01 7.351e-02]\n",
      " [8.035e+02 2.820e+01 1.774e+00 7.506e-01 8.068e-02]\n",
      " [9.905e+02 4.126e+01 3.720e+00 7.764e-01 3.408e-02]\n",
      " [9.308e+02 8.584e+01 4.290e+00 7.509e-01 7.545e-02]\n",
      " [1.031e+02 9.026e+01 5.053e+00 8.265e-01 3.200e-02]\n",
      " [8.955e+02 3.892e+01 1.084e-01 9.054e-01 9.129e-03]\n",
      " [3.193e+02 9.501e+01 9.506e+00 5.734e-01 6.318e-02]\n",
      " [4.484e+02 2.932e+01 3.287e+00 6.725e-01 7.524e-02]\n",
      " [7.916e+02 7.896e+01 9.121e-01 4.944e-01 5.756e-03]\n",
      " [5.495e+02 4.415e+01 8.877e+00 3.509e-01 1.171e-02]\n",
      " [1.430e+02 7.615e+01 6.182e+00 1.011e-01 8.411e-03]\n",
      " [7.010e+02 7.276e+00 8.219e+00 7.062e-01 8.135e-03]\n",
      " [8.484e+01 9.866e+01 3.743e+00 3.706e-01 8.128e-02]\n",
      " [9.472e+02 9.860e+01 7.534e+00 3.763e-01 8.350e-03]\n",
      " [7.771e+02 5.584e+01 4.242e+00 9.064e-01 1.112e-02]\n",
      " [4.926e+02 1.135e+00 4.687e+00 5.630e-02 1.188e-02]\n",
      " [1.175e+02 6.492e+01 7.460e+00 5.834e-01 9.622e-02]\n",
      " [3.749e+02 2.857e+01 8.686e+00 2.236e-01 9.632e-02]\n",
      " [1.215e+01 9.699e+01 4.316e-01 8.911e-01 5.277e-02]\n",
      " [9.930e+02 7.380e+00 5.539e+00 9.693e-01 5.231e-02]\n",
      " [6.294e+02 6.957e+01 4.545e+00 6.276e-01 5.843e-02]\n",
      " [9.012e+02 4.545e+00 2.810e+00 9.504e-01 8.903e-02]\n",
      " [4.557e+02 6.201e+01 2.774e+00 1.881e-01 4.637e-02]\n",
      " [3.534e+02 5.837e+01 7.773e-01 9.744e-01 9.862e-02]]\n"
     ]
    }
   ],
   "source": [
    "print(\"Original Data:\")\n",
    "print(np.array2string(data, precision = 3))"
   ]
  },
  {
   "cell_type": "code",
   "execution_count": 4,
   "id": "cc0595b5",
   "metadata": {},
   "outputs": [
    {
     "data": {
      "text/html": [
       "<style>#sk-container-id-1 {color: black;background-color: white;}#sk-container-id-1 pre{padding: 0;}#sk-container-id-1 div.sk-toggleable {background-color: white;}#sk-container-id-1 label.sk-toggleable__label {cursor: pointer;display: block;width: 100%;margin-bottom: 0;padding: 0.3em;box-sizing: border-box;text-align: center;}#sk-container-id-1 label.sk-toggleable__label-arrow:before {content: \"▸\";float: left;margin-right: 0.25em;color: #696969;}#sk-container-id-1 label.sk-toggleable__label-arrow:hover:before {color: black;}#sk-container-id-1 div.sk-estimator:hover label.sk-toggleable__label-arrow:before {color: black;}#sk-container-id-1 div.sk-toggleable__content {max-height: 0;max-width: 0;overflow: hidden;text-align: left;background-color: #f0f8ff;}#sk-container-id-1 div.sk-toggleable__content pre {margin: 0.2em;color: black;border-radius: 0.25em;background-color: #f0f8ff;}#sk-container-id-1 input.sk-toggleable__control:checked~div.sk-toggleable__content {max-height: 200px;max-width: 100%;overflow: auto;}#sk-container-id-1 input.sk-toggleable__control:checked~label.sk-toggleable__label-arrow:before {content: \"▾\";}#sk-container-id-1 div.sk-estimator input.sk-toggleable__control:checked~label.sk-toggleable__label {background-color: #d4ebff;}#sk-container-id-1 div.sk-label input.sk-toggleable__control:checked~label.sk-toggleable__label {background-color: #d4ebff;}#sk-container-id-1 input.sk-hidden--visually {border: 0;clip: rect(1px 1px 1px 1px);clip: rect(1px, 1px, 1px, 1px);height: 1px;margin: -1px;overflow: hidden;padding: 0;position: absolute;width: 1px;}#sk-container-id-1 div.sk-estimator {font-family: monospace;background-color: #f0f8ff;border: 1px dotted black;border-radius: 0.25em;box-sizing: border-box;margin-bottom: 0.5em;}#sk-container-id-1 div.sk-estimator:hover {background-color: #d4ebff;}#sk-container-id-1 div.sk-parallel-item::after {content: \"\";width: 100%;border-bottom: 1px solid gray;flex-grow: 1;}#sk-container-id-1 div.sk-label:hover label.sk-toggleable__label {background-color: #d4ebff;}#sk-container-id-1 div.sk-serial::before {content: \"\";position: absolute;border-left: 1px solid gray;box-sizing: border-box;top: 0;bottom: 0;left: 50%;z-index: 0;}#sk-container-id-1 div.sk-serial {display: flex;flex-direction: column;align-items: center;background-color: white;padding-right: 0.2em;padding-left: 0.2em;position: relative;}#sk-container-id-1 div.sk-item {position: relative;z-index: 1;}#sk-container-id-1 div.sk-parallel {display: flex;align-items: stretch;justify-content: center;background-color: white;position: relative;}#sk-container-id-1 div.sk-item::before, #sk-container-id-1 div.sk-parallel-item::before {content: \"\";position: absolute;border-left: 1px solid gray;box-sizing: border-box;top: 0;bottom: 0;left: 50%;z-index: -1;}#sk-container-id-1 div.sk-parallel-item {display: flex;flex-direction: column;z-index: 1;position: relative;background-color: white;}#sk-container-id-1 div.sk-parallel-item:first-child::after {align-self: flex-end;width: 50%;}#sk-container-id-1 div.sk-parallel-item:last-child::after {align-self: flex-start;width: 50%;}#sk-container-id-1 div.sk-parallel-item:only-child::after {width: 0;}#sk-container-id-1 div.sk-dashed-wrapped {border: 1px dashed gray;margin: 0 0.4em 0.5em 0.4em;box-sizing: border-box;padding-bottom: 0.4em;background-color: white;}#sk-container-id-1 div.sk-label label {font-family: monospace;font-weight: bold;display: inline-block;line-height: 1.2em;}#sk-container-id-1 div.sk-label-container {text-align: center;}#sk-container-id-1 div.sk-container {/* jupyter's `normalize.less` sets `[hidden] { display: none; }` but bootstrap.min.css set `[hidden] { display: none !important; }` so we also need the `!important` here to be able to override the default hidden behavior on the sphinx rendered scikit-learn.org. See: https://github.com/scikit-learn/scikit-learn/issues/21755 */display: inline-block !important;position: relative;}#sk-container-id-1 div.sk-text-repr-fallback {display: none;}</style><div id=\"sk-container-id-1\" class=\"sk-top-container\"><div class=\"sk-text-repr-fallback\"><pre>StandardScaler()</pre><b>In a Jupyter environment, please rerun this cell to show the HTML representation or trust the notebook. <br />On GitHub, the HTML representation is unable to render, please try loading this page with nbviewer.org.</b></div><div class=\"sk-container\" hidden><div class=\"sk-item\"><div class=\"sk-estimator sk-toggleable\"><input class=\"sk-toggleable__control sk-hidden--visually\" id=\"sk-estimator-id-1\" type=\"checkbox\" checked><label for=\"sk-estimator-id-1\" class=\"sk-toggleable__label sk-toggleable__label-arrow\">StandardScaler</label><div class=\"sk-toggleable__content\"><pre>StandardScaler()</pre></div></div></div></div></div>"
      ],
      "text/plain": [
       "StandardScaler()"
      ]
     },
     "execution_count": 4,
     "metadata": {},
     "output_type": "execute_result"
    }
   ],
   "source": [
    "# Create standard scaler object and fit it to the original data\n",
    "scaler = StandardScaler()\n",
    "scaler.fit(data)"
   ]
  },
  {
   "cell_type": "code",
   "execution_count": 5,
   "id": "aaeab946",
   "metadata": {},
   "outputs": [],
   "source": [
    "# Transform the data\n",
    "scaled_data = scaler.transform(data)"
   ]
  },
  {
   "cell_type": "code",
   "execution_count": 6,
   "id": "afa99f6a",
   "metadata": {
    "scrolled": true
   },
   "outputs": [
    {
     "name": "stdout",
     "output_type": "stream",
     "text": [
      "Scaled Data:\n",
      "[[-0.44   1.426  0.833  0.265 -0.972]\n",
      " [-1.178 -1.566  1.29   0.274  0.829]\n",
      " [-1.636  1.49   1.175 -1.059 -0.887]\n",
      " [-1.086 -0.741  0.126 -0.306 -0.531]\n",
      " [ 0.362 -1.293 -0.667 -0.531  0.007]\n",
      " [ 0.948 -1.091  0.09   0.244 -1.329]\n",
      " [ 0.347 -1.189 -1.441  1.466  1.669]\n",
      " [ 1.026 -0.739 -1.33   0.559 -0.045]\n",
      " [-1.293 -0.101 -1.545  1.33  -0.636]\n",
      " [ 0.533 -0.716  0.11   0.087 -0.878]\n",
      " [ 1.571  0.837  1.54   1.28   0.47 ]\n",
      " [ 1.409 -1.464 -0.994 -1.632 -0.419]\n",
      " [-0.392 -0.851  1.163 -0.564 -0.564]\n",
      " [ 0.128 -1.288  1.072 -1.531  1.738]\n",
      " [ 0.904 -1.094 -1.644  1.008  0.825]\n",
      " [ 0.758  0.825 -1.41  -0.558 -1.103]\n",
      " [ 1.211  0.329 -0.535 -1.569 -0.466]\n",
      " [-0.607  0.685  0.511  1.254  0.06 ]\n",
      " [-1.301  0.63   0.931  0.137  1.034]\n",
      " [-0.037 -0.008 -0.205 -1.7   -1.129]\n",
      " [-1.599  0.373 -0.591 -0.043  1.48 ]\n",
      " [-0.863 -0.385  0.913 -1.002 -1.229]\n",
      " [-0.726 -1.22   1.507  0.983  0.585]\n",
      " [ 1.239  0.933 -1.027  1.273  0.279]\n",
      " [ 1.023  1.243 -0.578 -1.409 -0.737]\n",
      " [-0.262  0.981  1.272 -1.763  0.185]\n",
      " [-0.295 -1.016 -1.254 -0.629  1.595]\n",
      " [-0.613 -0.022  0.734 -0.54   1.689]\n",
      " [ 1.547 -0.916  0.033 -0.755 -0.551]\n",
      " [-1.581  0.283  0.051 -1.61  -0.572]\n",
      " [ 1.363 -0.957 -1.169 -0.109  1.734]\n",
      " [-0.887  0.492  0.934 -0.972  0.895]\n",
      " [-0.463  0.359  0.497  0.05  -1.186]\n",
      " [ 1.117 -0.685 -1.027 -1.647  0.447]\n",
      " [ 0.584 -1.705  0.083 -1.01   0.624]\n",
      " [-1.116  0.555 -0.344  1.424 -1.032]\n",
      " [-0.553 -1.38   1.49   1.221 -0.639]\n",
      " [ 0.525  0.979  0.23   0.029 -0.692]\n",
      " [-1.391  1.247  1.407  0.383 -0.375]\n",
      " [-0.525  0.673  1.396  1.254  1.063]\n",
      " [ 0.464 -1.478 -1.112  1.293  0.497]\n",
      " [-1.674 -1.42   0.599 -1.769 -0.956]\n",
      " [ 0.149  0.559  0.56  -1.018  0.842]\n",
      " [-0.904 -0.67   0.882  0.44   1.289]\n",
      " [ 0.517  0.144 -1.343 -0.526 -0.616]\n",
      " [-0.881  1.501 -0.322  1.271  0.578]\n",
      " [ 0.98  -0.076  0.304 -0.098 -0.844]\n",
      " [ 0.736 -0.819 -1.58   0.426 -0.903]\n",
      " [ 1.472  1.437  1.456 -0.518 -1.43 ]\n",
      " [ 1.431 -0.325  1.633  1.516  1.302]\n",
      " [-0.71  -0.47   1.239 -0.7   -0.928]\n",
      " [ 0.176  1.377  0.71   0.167 -1.164]\n",
      " [ 0.373  1.558 -1.185 -0.01   1.381]\n",
      " [ 0.798  0.576  0.732 -0.554 -0.523]\n",
      " [ 1.029  0.955  1.293  1.344  0.187]\n",
      " [-0.011  0.915  0.553  0.619  1.115]\n",
      " [ 1.302 -0.627 -0.382 -1.465  0.406]\n",
      " [-1.584 -0.2    0.187 -0.804  0.447]\n",
      " [-1.602 -1.635  1.142 -0.552 -1.066]\n",
      " [ 0.059  0.82  -0.927  0.348 -1.202]\n",
      " [-1.531  0.021  0.18   0.398  0.888]\n",
      " [ 1.592 -0.03  -0.562  0.939 -0.597]\n",
      " [-0.222 -1.497 -1.576  1.513  1.246]\n",
      " [ 0.646 -0.39  -1.072 -1.25  -0.664]\n",
      " [ 0.15   0.635  0.588 -0.827  1.634]\n",
      " [ 0.788  0.098  0.423 -0.348 -0.673]\n",
      " [-0.503  0.78  -1.613 -1.389 -1.33 ]\n",
      " [-1.568  1.107  0.736 -0.161 -1.161]\n",
      " [-0.044 -0.173 -1.072 -0.3   -0.181]\n",
      " [ 0.376  0.368 -1.508 -0.503  0.561]\n",
      " [-0.005  1.11   0.583 -1.228 -1.25 ]\n",
      " [ 0.465 -1.671  0.334  1.436  0.396]\n",
      " [-0.394  0.396 -0.1    0.084  1.59 ]\n",
      " [-0.401  1.461  1.424 -1.116 -1.254]\n",
      " [-1.365 -1.699 -1.341  0.554 -1.248]\n",
      " [-0.628  1.071 -1.583  1.005 -0.561]\n",
      " [-1.306  0.575  0.481  1.221  0.917]\n",
      " [ 1.009 -0.815 -1.058  0.786  1.151]\n",
      " [ 1.641 -0.377 -0.394  0.875 -0.369]\n",
      " [ 1.439  1.117 -0.2    0.787  0.981]\n",
      " [-1.357  1.264  0.06   1.046 -0.437]\n",
      " [ 1.32  -0.456 -1.626  1.317 -1.183]\n",
      " [-0.626  1.424  1.578  0.179  0.58 ]\n",
      " [-0.19  -0.778 -0.542  0.518  0.973]\n",
      " [ 0.969  0.886 -1.352 -0.092 -1.293]\n",
      " [ 0.151 -0.281  1.364 -0.584 -1.099]\n",
      " [-1.222  0.792  0.445 -1.44  -1.206]\n",
      " [ 0.663 -1.516  1.139  0.634 -1.215]\n",
      " [-1.419  1.546 -0.387 -0.516  1.171]\n",
      " [ 1.495  1.544  0.906 -0.497 -1.208]\n",
      " [ 0.92   0.111 -0.216  1.32  -1.118]\n",
      " [-0.041 -1.722 -0.065 -1.594 -1.093]\n",
      " [-1.308  0.415  0.881  0.213  1.658]\n",
      " [-0.439 -0.803  1.298 -1.02   1.661]\n",
      " [-1.664  1.49  -1.515  1.268  0.241]\n",
      " [ 1.65  -1.513  0.226  1.536  0.226]\n",
      " [ 0.421  0.571 -0.113  0.364  0.425]\n",
      " [ 1.339 -1.608 -0.705  1.471  1.423]\n",
      " [-0.166  0.318 -0.717 -1.142  0.032]\n",
      " [-0.511  0.196 -1.398  1.553  1.736]]\n"
     ]
    }
   ],
   "source": [
    "print(\"Scaled Data:\")\n",
    "print(np.array2string(scaled_data, precision = 3))"
   ]
  },
  {
   "cell_type": "code",
   "execution_count": null,
   "id": "8f69fcfb",
   "metadata": {},
   "outputs": [],
   "source": []
  }
 ],
 "metadata": {
  "kernelspec": {
   "display_name": "Python 3 (ipykernel)",
   "language": "python",
   "name": "python3"
  },
  "language_info": {
   "codemirror_mode": {
    "name": "ipython",
    "version": 3
   },
   "file_extension": ".py",
   "mimetype": "text/x-python",
   "name": "python",
   "nbconvert_exporter": "python",
   "pygments_lexer": "ipython3",
   "version": "3.10.9"
  }
 },
 "nbformat": 4,
 "nbformat_minor": 5
}

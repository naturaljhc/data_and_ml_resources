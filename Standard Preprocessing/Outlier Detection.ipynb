{
 "cells": [
  {
   "cell_type": "markdown",
   "id": "21395800",
   "metadata": {},
   "source": [
    "# Outlier Detection\n",
    "* Z-Score\n",
    "* IQR\n",
    "* DBSCAN\n",
    "* Isolation Forest\n",
    "* LOF\n",
    "* Statistical Tests"
   ]
  },
  {
   "cell_type": "code",
   "execution_count": null,
   "id": "1f335cd4",
   "metadata": {},
   "outputs": [],
   "source": []
  }
 ],
 "metadata": {
  "kernelspec": {
   "display_name": "Python 3 (ipykernel)",
   "language": "python",
   "name": "python3"
  },
  "language_info": {
   "codemirror_mode": {
    "name": "ipython",
    "version": 3
   },
   "file_extension": ".py",
   "mimetype": "text/x-python",
   "name": "python",
   "nbconvert_exporter": "python",
   "pygments_lexer": "ipython3",
   "version": "3.10.9"
  }
 },
 "nbformat": 4,
 "nbformat_minor": 5
}

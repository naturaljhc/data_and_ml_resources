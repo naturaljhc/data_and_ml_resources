{
 "cells": [
  {
   "cell_type": "markdown",
   "id": "e6ffd10a",
   "metadata": {},
   "source": [
    "# Ridge Regression\n",
    "* Ridge Regression shares the same assumptions as OLS, but Ridge Regression helps address multicollinearity and reduce overfitting. Ridge is particularly useful when you have a number of features and you want to keep all of them (as opposed to having weights go to 0 in Lasso)\n",
    "    * Linearity: There should be a linear relationship between the features and the target\n",
    "    * Independence of Errors: Errors (residuals) should be independent of each other. Patterns in a residual plot may suggest a lack of independence\n",
    "    * Homoscedasticity: Variance of errors should be constant. An example of heteroscedsticity (bad) is if you have a conal shape in your residual plot\n",
    "    * Normality of Errors: The errors should be normally distributed. Check the Q-Q plot - if the residuals are normally distributed, then the points should fall approximately along a straight line\n",
    "    * No perfect collinearity: Features are not perfectly correlated (perfect collinearity)"
   ]
  },
  {
   "cell_type": "code",
   "execution_count": 1,
   "id": "e6889d29",
   "metadata": {},
   "outputs": [],
   "source": [
    "import numpy as np\n",
    "import pandas as pd\n",
    "from sklearn.datasets import make_regression\n",
    "from sklearn.model_selection import train_test_split\n",
    "from sklearn.linear_model import RidgeCV\n",
    "from sklearn.metrics import mean_squared_error"
   ]
  },
  {
   "cell_type": "code",
   "execution_count": 2,
   "id": "ec2468f4",
   "metadata": {},
   "outputs": [],
   "source": [
    "X, y = make_regression(n_samples=10000, n_features = 500, noise = 10, random_state = 42)\n",
    "feature_names = [\"feature \" + str(i) for i in range(1, len(X[0,:])+1)]\n",
    "X = pd.DataFrame(dict(zip(feature_names, np.transpose(X))))"
   ]
  },
  {
   "cell_type": "code",
   "execution_count": 3,
   "id": "49522d20",
   "metadata": {},
   "outputs": [],
   "source": [
    "# We will split the data here\n",
    "# If you have access to a separate test set, treat this as validation to make sure your data satisfies the assumptions\n",
    "# of linear regression. Retrain on the entire dataset and then make predictions on the test set\n",
    "X_train, X_test, y_train, y_test = train_test_split(X, y, test_size = 0.2, random_state = 42)"
   ]
  },
  {
   "cell_type": "code",
   "execution_count": 4,
   "id": "a4ba4f84",
   "metadata": {},
   "outputs": [],
   "source": [
    "# Use scaled data for regularization so that all features are weighed equally\n",
    "\n",
    "# Import Standard Scaler\n",
    "from sklearn.preprocessing import StandardScaler\n",
    "scaler = StandardScaler()\n",
    "\n",
    "# Fit the scaler on the training data\n",
    "scaler.fit(X_train)\n",
    "\n",
    "# Transform X_train and X_test\n",
    "X_train_scaled = scaler.transform(X_train)\n",
    "X_test_scaled = scaler.transform(X_test)"
   ]
  },
  {
   "cell_type": "code",
   "execution_count": 5,
   "id": "85c656e2",
   "metadata": {},
   "outputs": [
    {
     "name": "stdout",
     "output_type": "stream",
     "text": [
      "Best Ridge alpha: 2.4201282647943834\n",
      "Training R-Squared: 0.9981\n",
      "Testing R-Squared: 0.9978\n",
      "Mean Squared Error: 104.0683\n"
     ]
    }
   ],
   "source": [
    "# Ridge Regression on the scaled data\n",
    "model = RidgeCV(alphas = 10**np.linspace(-2, 2, 100), cv = 5)\n",
    "model.fit(X_train_scaled, y_train)\n",
    "print(f\"Best Ridge alpha: {model.alpha_}\")\n",
    "print(f\"Training R-Squared: {model.score(X_train_scaled, y_train):.4f}\")\n",
    "print(f\"Testing R-Squared: {model.score(X_test_scaled, y_test):.4f}\")\n",
    "print(f\"Mean Squared Error: {mean_squared_error(y_test, model.predict(X_test_scaled)):.4f}\")"
   ]
  },
  {
   "cell_type": "code",
   "execution_count": null,
   "id": "d313f037",
   "metadata": {},
   "outputs": [],
   "source": []
  }
 ],
 "metadata": {
  "kernelspec": {
   "display_name": "Python 3 (ipykernel)",
   "language": "python",
   "name": "python3"
  },
  "language_info": {
   "codemirror_mode": {
    "name": "ipython",
    "version": 3
   },
   "file_extension": ".py",
   "mimetype": "text/x-python",
   "name": "python",
   "nbconvert_exporter": "python",
   "pygments_lexer": "ipython3",
   "version": "3.10.9"
  }
 },
 "nbformat": 4,
 "nbformat_minor": 5
}

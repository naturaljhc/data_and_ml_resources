{
 "cells": [
  {
   "cell_type": "markdown",
   "id": "9abaef9e",
   "metadata": {},
   "source": [
    "# Decision Tree Regressor\n",
    "* Decision Tree Regressor is not a linear model so it does not have the same assumptions as OLS. This allows decision trees to be more versatile for different types of data and can model complex and non-linear relationships between features and the target. The downside is that decision trees are prone to overfitting if not properly pruned or regularized - use techniques such as tree depth limitation and pruning to enhance the generalizability of the model"
   ]
  },
  {
   "cell_type": "code",
   "execution_count": 1,
   "id": "e60eb41f",
   "metadata": {},
   "outputs": [],
   "source": [
    "import numpy as np\n",
    "from sklearn.datasets import fetch_california_housing\n",
    "from sklearn.model_selection import train_test_split, GridSearchCV\n",
    "from sklearn.tree import DecisionTreeRegressor\n",
    "from sklearn.metrics import mean_squared_error"
   ]
  },
  {
   "cell_type": "code",
   "execution_count": 2,
   "id": "17474412",
   "metadata": {},
   "outputs": [],
   "source": [
    "# Load the dataset\n",
    "california_housing = fetch_california_housing()\n",
    "X = california_housing.data\n",
    "y = california_housing.target"
   ]
  },
  {
   "cell_type": "code",
   "execution_count": 3,
   "id": "665e6a93",
   "metadata": {},
   "outputs": [],
   "source": [
    "# Split the data into training and testing sets\n",
    "X_train, X_test, y_train, y_test = train_test_split(X, y, test_size=0.2, random_state=42)"
   ]
  },
  {
   "cell_type": "code",
   "execution_count": 4,
   "id": "12aa14df",
   "metadata": {},
   "outputs": [
    {
     "name": "stdout",
     "output_type": "stream",
     "text": [
      "Best Parameters: {'max_depth': None, 'min_samples_leaf': 8, 'min_samples_split': 25}\n",
      "Training R-Squared: 0.8529686232485982\n",
      "Testing R-Squared: 0.7229773320846045\n",
      "Mean Squared Error: 0.3630129912125816\n"
     ]
    }
   ],
   "source": [
    "# Create a decision tree regressor\n",
    "model = DecisionTreeRegressor(random_state=42)\n",
    "\n",
    "# Define hyperparameters for tuning\n",
    "param_grid = {\n",
    "    'max_depth': [None, 10, 20, 30, 40, 50],\n",
    "    'min_samples_split': [2, 5, 10, 15, 20, 25],\n",
    "    'min_samples_leaf': [1, 2, 4, 8]\n",
    "}\n",
    "\n",
    "# Use GridSearchCV for hyperparameter tuning\n",
    "grid_search = GridSearchCV(model, param_grid, cv=5, scoring='neg_mean_squared_error')\n",
    "\n",
    "# Fit GridSearchCV on training data\n",
    "grid_search.fit(X_train, y_train)\n",
    "\n",
    "# Get the best parameters and best model\n",
    "best_params = grid_search.best_params_\n",
    "\n",
    "# Train a model using the best parameters\n",
    "best_model = DecisionTreeRegressor(random_state=42, **best_params)\n",
    "best_model.fit(X_train, y_train)\n",
    "\n",
    "print(f\"Best Parameters: {best_params}\")\n",
    "\n",
    "# Evaluate the best regressor on the test data\n",
    "y_pred = best_model.predict(X_test)\n",
    "\n",
    "print(f\"Training R-Squared: {best_model.score(X_train, y_train)}\")\n",
    "print(f\"Testing R-Squared: {best_model.score(X_test, y_test)}\")\n",
    "print(\"Mean Squared Error:\", mean_squared_error(y_test, y_pred))"
   ]
  },
  {
   "cell_type": "code",
   "execution_count": null,
   "id": "dac62cda",
   "metadata": {},
   "outputs": [],
   "source": []
  }
 ],
 "metadata": {
  "kernelspec": {
   "display_name": "Python 3 (ipykernel)",
   "language": "python",
   "name": "python3"
  },
  "language_info": {
   "codemirror_mode": {
    "name": "ipython",
    "version": 3
   },
   "file_extension": ".py",
   "mimetype": "text/x-python",
   "name": "python",
   "nbconvert_exporter": "python",
   "pygments_lexer": "ipython3",
   "version": "3.10.9"
  }
 },
 "nbformat": 4,
 "nbformat_minor": 5
}

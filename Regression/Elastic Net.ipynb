{
 "cells": [
  {
   "cell_type": "markdown",
   "id": "ce14be14",
   "metadata": {},
   "source": [
    "# Elastic Net\n",
    "* Elastic Net shares the same assumptions as OLS. Elastic Net is a combination of Lasso and Ridge Regression and the ratio between the two can be controlled by `l1_ratio`\n",
    "    * Linearity: There should be a linear relationship between the features and the target\n",
    "    * Independence of Errors: Errors (residuals) should be independent of each other. Patterns in a residual plot may suggest a lack of independence\n",
    "    * Homoscedasticity: Variance of errors should be constant. An example of heteroscedsticity (bad) is if you have a conal shape in your residual plot\n",
    "    * Normality of Errors: The errors should be normally distributed. Check the Q-Q plot - if the residuals are normally distributed, then the points should fall approximately along a straight line\n",
    "    * No perfect collinearity: Features are not perfectly correlated (perfect collinearity)"
   ]
  },
  {
   "cell_type": "code",
   "execution_count": 2,
   "id": "20c9461d",
   "metadata": {},
   "outputs": [],
   "source": [
    "import numpy as np\n",
    "import pandas as pd\n",
    "from sklearn.datasets import make_regression\n",
    "from sklearn.model_selection import train_test_split\n",
    "from sklearn.linear_model import ElasticNetCV\n",
    "from sklearn.metrics import mean_squared_error"
   ]
  },
  {
   "cell_type": "code",
   "execution_count": 3,
   "id": "b89ff7c6",
   "metadata": {},
   "outputs": [],
   "source": [
    "X, y = make_regression(n_samples=10000, n_features = 500, noise = 10, random_state = 42)\n",
    "feature_names = [\"feature \" + str(i) for i in range(1, len(X[0,:])+1)]\n",
    "X = pd.DataFrame(dict(zip(feature_names, np.transpose(X))))"
   ]
  },
  {
   "cell_type": "code",
   "execution_count": 4,
   "id": "d14770fa",
   "metadata": {},
   "outputs": [],
   "source": [
    "# We will split the data here\n",
    "# If you have access to a separate test set, treat this as validation to make sure your data satisfies the assumptions\n",
    "# of linear regression. Retrain on the entire dataset and then make predictions on the test set\n",
    "X_train, X_test, y_train, y_test = train_test_split(X, y, test_size = 0.2, random_state = 42)"
   ]
  },
  {
   "cell_type": "code",
   "execution_count": 5,
   "id": "a249c4a8",
   "metadata": {},
   "outputs": [],
   "source": [
    "# Use scaled data for regularization so that all features are weighed equally\n",
    "\n",
    "# Import Standard Scaler\n",
    "from sklearn.preprocessing import StandardScaler\n",
    "scaler = StandardScaler()\n",
    "\n",
    "# Fit the scaler on the training data\n",
    "scaler.fit(X_train)\n",
    "\n",
    "# Transform X_train and X_test\n",
    "X_train_scaled = scaler.transform(X_train)\n",
    "X_test_scaled = scaler.transform(X_test)"
   ]
  },
  {
   "cell_type": "code",
   "execution_count": 7,
   "id": "ee9e3c69",
   "metadata": {},
   "outputs": [
    {
     "name": "stdout",
     "output_type": "stream",
     "text": [
      "Best Elastic Net l1_ratio: 1.0\n",
      "Best Elastic Net alpha: 0.23644894126454083\n",
      "Training R-Squared: 0.9980\n",
      "Testing R-Squared: 0.9979\n",
      "Mean Squared Error: 99.6489\n"
     ]
    }
   ],
   "source": [
    "# ElasticNet on the scaled data\n",
    "model = ElasticNetCV(l1_ratio = [.1, .5, .7, .9, .95, .99, 1],\n",
    "                     alphas = 10**np.linspace(-2, 2, 100), \n",
    "                     cv = 5,\n",
    "                     random_state = 42)\n",
    "model.fit(X_train_scaled, y_train)\n",
    "print(f\"Best Elastic Net l1_ratio: {model.l1_ratio_}\")\n",
    "print(f\"Best Elastic Net alpha: {model.alpha_}\")\n",
    "print(f\"Training R-Squared: {model.score(X_train_scaled, y_train):.4f}\")\n",
    "print(f\"Testing R-Squared: {model.score(X_test_scaled, y_test):.4f}\")\n",
    "print(f\"Mean Squared Error: {mean_squared_error(y_test, model.predict(X_test_scaled)):.4f}\")"
   ]
  },
  {
   "cell_type": "code",
   "execution_count": null,
   "id": "c09cfcbb",
   "metadata": {},
   "outputs": [],
   "source": []
  }
 ],
 "metadata": {
  "kernelspec": {
   "display_name": "Python 3 (ipykernel)",
   "language": "python",
   "name": "python3"
  },
  "language_info": {
   "codemirror_mode": {
    "name": "ipython",
    "version": 3
   },
   "file_extension": ".py",
   "mimetype": "text/x-python",
   "name": "python",
   "nbconvert_exporter": "python",
   "pygments_lexer": "ipython3",
   "version": "3.10.9"
  }
 },
 "nbformat": 4,
 "nbformat_minor": 5
}
